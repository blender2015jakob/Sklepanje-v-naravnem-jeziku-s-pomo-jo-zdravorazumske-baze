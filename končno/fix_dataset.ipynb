{
 "cells": [
  {
   "cell_type": "code",
   "execution_count": 3,
   "metadata": {},
   "outputs": [],
   "source": [
    "import pandas as pd\n",
    "\n",
    "location = \"../Fixed_dataset/\"\n",
    "\n",
    "# import dev, test, train (first row is column names)\n",
    "dev = pd.read_csv(location + \"dev.tsv\", sep=\"\\t\", header=0)\n",
    "test = pd.read_csv(location + \"test.tsv\", sep=\"\\t\", header=0)\n",
    "train = pd.read_csv(location + \"train.tsv\", sep=\"\\t\", header=0)\n",
    "\n",
    "#import dev, test, train (first row is column names)\n",
    "location = \"../Final_dataset/\"\n",
    "\n",
    "#import dev, test, train (first row is column names)\n",
    "dev_atomic = pd.read_csv(location + \"dev_atomic.tsv\", sep=\"\\t\", header=0)\n",
    "test_atomic = pd.read_csv(location + \"test_atomic.tsv\", sep=\"\\t\", header=0)\n",
    "train_atomic = pd.read_csv(location + \"train_atomic.tsv\", sep=\"\\t\", header=0)\n",
    "\n"
   ]
  },
  {
   "cell_type": "code",
   "execution_count": 12,
   "metadata": {},
   "outputs": [],
   "source": [
    "#the _atomic datsets dont have set labels, add them from the original datasets\n",
    "dev_atomic['label'] = dev['label']\n",
    "test_atomic['label'] = test['label']\n",
    "train_atomic['label'] = train['label']"
   ]
  },
  {
   "cell_type": "code",
   "execution_count": 14,
   "metadata": {},
   "outputs": [],
   "source": [
    "#save the new datasets\n",
    "dev_atomic.to_csv(location + \"dev_atomic.tsv\", sep=\"\\t\", index=False)\n",
    "test_atomic.to_csv(location + \"test_atomic.tsv\", sep=\"\\t\", index=False)\n",
    "train_atomic.to_csv(location + \"train_atomic.tsv\", sep=\"\\t\", index=False)"
   ]
  }
 ],
 "metadata": {
  "kernelspec": {
   "display_name": "Python 3",
   "language": "python",
   "name": "python3"
  },
  "language_info": {
   "codemirror_mode": {
    "name": "ipython",
    "version": 3
   },
   "file_extension": ".py",
   "mimetype": "text/x-python",
   "name": "python",
   "nbconvert_exporter": "python",
   "pygments_lexer": "ipython3",
   "version": "3.11.8"
  }
 },
 "nbformat": 4,
 "nbformat_minor": 2
}
