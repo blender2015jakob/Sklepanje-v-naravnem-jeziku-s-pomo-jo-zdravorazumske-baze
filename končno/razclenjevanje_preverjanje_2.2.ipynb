{
 "cells": [
  {
   "cell_type": "code",
   "execution_count": 1,
   "metadata": {},
   "outputs": [],
   "source": [
    "import pandas as pd\n",
    "\n",
    "location = \"../Fixed_dataset_with_osebek_predmet/\"\n",
    "\n",
    "#import dev, test, train (first row is column names)\n",
    "dev = pd.read_csv(location + \"dev.tsv\", sep='\\t', header=0)\n",
    "test = pd.read_csv(location + \"test.tsv\", sep='\\t', header=0)\n",
    "train = pd.read_csv(location + \"train.tsv\", sep='\\t', header=0)"
   ]
  },
  {
   "cell_type": "code",
   "execution_count": 2,
   "metadata": {},
   "outputs": [
    {
     "name": "stdout",
     "output_type": "stream",
     "text": [
      "dev\n",
      "length:  440\n",
      "osebek_premise:  290 ( 0.6590909090909091 )\n",
      "predmet_premise:  308 ( 0.7 )\n",
      "osebek_hypothesis:  326 ( 0.740909090909091 )\n",
      "predmet_hypothesis:  347 ( 0.7886363636363637 )\n",
      "--------------------\n",
      "test\n",
      "length:  547\n",
      "osebek_premise:  390 ( 0.7129798903107861 )\n",
      "predmet_premise:  345 ( 0.6307129798903108 )\n",
      "osebek_hypothesis:  383 ( 0.70018281535649 )\n",
      "predmet_hypothesis:  403 ( 0.7367458866544789 )\n",
      "--------------------\n",
      "train\n",
      "length:  3952\n",
      "osebek_premise:  2667 ( 0.6748481781376519 )\n",
      "predmet_premise:  2671 ( 0.6758603238866396 )\n",
      "osebek_hypothesis:  2705 ( 0.6844635627530364 )\n",
      "predmet_hypothesis:  2996 ( 0.7580971659919028 )\n",
      "--------------------\n"
     ]
    }
   ],
   "source": [
    "#find how many osebek_premise, opredmet_premise, osebek_hypothesis, opredmet_hypothesis there are\n",
    "def num(df):\n",
    "\tosebek_premise = 0\n",
    "\tpredmet_premise = 0\n",
    "\tosebek_hypothesis = 0\n",
    "\tpredmet_hypothesis = 0\n",
    "\n",
    "\t# if it is not equal to NaN\n",
    "\tfor i in range(len(df)):\n",
    "\t\tif df[\"osebek_premise\"][i] == df[\"osebek_premise\"][i]:\n",
    "\t\t\tosebek_premise += 1\n",
    "\t\tif df[\"predmet_premise\"][i] == df[\"predmet_premise\"][i]:\n",
    "\t\t\tpredmet_premise += 1\n",
    "\t\tif df[\"osebek_hypothesis\"][i] == df[\"osebek_hypothesis\"][i]:\n",
    "\t\t\tosebek_hypothesis += 1\n",
    "\t\tif df[\"predmet_hypothesis\"][i] == df[\"predmet_hypothesis\"][i]:\n",
    "\t\t\tpredmet_hypothesis += 1\n",
    "\n",
    "\treturn osebek_premise, predmet_premise, osebek_hypothesis, predmet_hypothesis\n",
    "\n",
    "#dev\n",
    "osebek_premise, predmet_premise, osebek_hypothesis, predmet_hypothesis = num(dev)\n",
    "length = len(dev)\n",
    "\n",
    "print(\"dev\")\n",
    "print(\"length: \", length)\n",
    "print(\"osebek_premise: \", osebek_premise, \"(\", osebek_premise/length, \")\")\n",
    "print(\"predmet_premise: \", predmet_premise, \"(\", predmet_premise/length, \")\")\n",
    "print(\"osebek_hypothesis: \", osebek_hypothesis, \"(\", osebek_hypothesis/length, \")\")\n",
    "print(\"predmet_hypothesis: \", predmet_hypothesis, \"(\", predmet_hypothesis/length, \")\")\n",
    "print(\"--------------------\")\n",
    "\n",
    "#test\n",
    "osebek_premise, predmet_premise, osebek_hypothesis, predmet_hypothesis = num(test)\n",
    "length = len(test)\n",
    "\n",
    "print(\"test\")\n",
    "print(\"length: \", length)\n",
    "print(\"osebek_premise: \", osebek_premise, \"(\", osebek_premise/length, \")\")\n",
    "print(\"predmet_premise: \", predmet_premise, \"(\", predmet_premise/length, \")\")\n",
    "print(\"osebek_hypothesis: \", osebek_hypothesis, \"(\", osebek_hypothesis/length, \")\")\n",
    "print(\"predmet_hypothesis: \", predmet_hypothesis, \"(\", predmet_hypothesis/length, \")\")\n",
    "print(\"--------------------\")\n",
    "\n",
    "#train\n",
    "osebek_premise, predmet_premise, osebek_hypothesis, predmet_hypothesis = num(train)\n",
    "length = len(train)\n",
    "\n",
    "print(\"train\")\n",
    "print(\"length: \", length)\n",
    "print(\"osebek_premise: \", osebek_premise, \"(\", osebek_premise/length, \")\")\n",
    "print(\"predmet_premise: \", predmet_premise, \"(\", predmet_premise/length, \")\")\n",
    "print(\"osebek_hypothesis: \", osebek_hypothesis, \"(\", osebek_hypothesis/length, \")\")\n",
    "print(\"predmet_hypothesis: \", predmet_hypothesis, \"(\", predmet_hypothesis/length, \")\")\n",
    "print(\"--------------------\")"
   ]
  }
 ],
 "metadata": {
  "kernelspec": {
   "display_name": "Python 3",
   "language": "python",
   "name": "python3"
  },
  "language_info": {
   "codemirror_mode": {
    "name": "ipython",
    "version": 3
   },
   "file_extension": ".py",
   "mimetype": "text/x-python",
   "name": "python",
   "nbconvert_exporter": "python",
   "pygments_lexer": "ipython3",
   "version": "3.11.8"
  }
 },
 "nbformat": 4,
 "nbformat_minor": 2
}
