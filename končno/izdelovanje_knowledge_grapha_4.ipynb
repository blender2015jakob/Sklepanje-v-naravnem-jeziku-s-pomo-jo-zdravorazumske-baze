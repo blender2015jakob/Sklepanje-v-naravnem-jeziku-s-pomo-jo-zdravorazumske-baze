{
 "cells": [
  {
   "cell_type": "code",
   "execution_count": 2,
   "metadata": {},
   "outputs": [],
   "source": [
    "#import atomic dataset\n",
    "\n",
    "import pandas as pd\n",
    "\n",
    "location = \"../sloatomic2020/\"\n",
    "\n",
    "#read in the data\n",
    "df = pd.read_csv(location + \"sloatomic_train.tsv\", sep=\"\\t\", header=0)"
   ]
  },
  {
   "cell_type": "code",
   "execution_count": 6,
   "metadata": {},
   "outputs": [
    {
     "name": "stdout",
     "output_type": "stream",
     "text": [
      "                    head_event relation tail_event\n",
      "0  OsebaX popolnoma opusti ___  oEffect        nič\n",
      "1  OsebaX popolnoma opusti ___  oEffect        nič\n",
      "2  OsebaX popolnoma opusti ___   oReact    zavržen\n",
      "3  OsebaX popolnoma opusti ___    oWant        nič\n",
      "4  OsebaX popolnoma opusti ___    oWant        nič\n"
     ]
    }
   ],
   "source": [
    "#print the first 5 rows\n",
    "print(df.head())\n",
    "\n",
    "#if the data is the same save it only once\n",
    "relation = df[\"relation\"].unique()\n",
    "\n",
    "#print size\n",
    "print(len(relation))"
   ]
  }
 ],
 "metadata": {
  "kernelspec": {
   "display_name": "Python 3",
   "language": "python",
   "name": "python3"
  },
  "language_info": {
   "codemirror_mode": {
    "name": "ipython",
    "version": 3
   },
   "file_extension": ".py",
   "mimetype": "text/x-python",
   "name": "python",
   "nbconvert_exporter": "python",
   "pygments_lexer": "ipython3",
   "version": "3.11.7"
  }
 },
 "nbformat": 4,
 "nbformat_minor": 2
}
