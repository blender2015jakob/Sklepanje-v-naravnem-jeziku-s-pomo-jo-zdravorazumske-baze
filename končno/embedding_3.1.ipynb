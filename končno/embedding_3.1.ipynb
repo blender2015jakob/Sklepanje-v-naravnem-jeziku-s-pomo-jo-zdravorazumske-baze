{
 "cells": [
  {
   "cell_type": "code",
   "execution_count": 2,
   "metadata": {},
   "outputs": [],
   "source": [
    "#add embedding\n",
    "from sentence_transformers import SentenceTransformer\n",
    "\n",
    "model = SentenceTransformer('sentence-transformers/LaBSE')"
   ]
  },
  {
   "cell_type": "code",
   "execution_count": 4,
   "metadata": {},
   "outputs": [],
   "source": [
    "import pandas as pd\n",
    "\n",
    "location = \"../Fixed_dataset_with_osebek_predmet/\"\n",
    "\n",
    "#import dev, test, train (first row is column names)\n",
    "dev = pd.read_csv(location + \"dev.tsv\", sep='\\t', header=0)\n",
    "test = pd.read_csv(location + \"test.tsv\", sep='\\t', header=0)\n",
    "train = pd.read_csv(location + \"train.tsv\", sep='\\t', header=0)"
   ]
  },
  {
   "cell_type": "code",
   "execution_count": 5,
   "metadata": {},
   "outputs": [],
   "source": [
    "#add column for embedding premise and hypothesis\n",
    "dev['premise_embedding'] = \"\"\n",
    "dev['hypothesis_embedding'] = \"\"\n",
    "\n",
    "test['premise_embedding'] = \"\"\n",
    "test['hypothesis_embedding'] = \"\"\n",
    "\n",
    "train['premise_embedding'] = \"\"\n",
    "train['hypothesis_embedding'] = \"\""
   ]
  },
  {
   "cell_type": "code",
   "execution_count": null,
   "metadata": {},
   "outputs": [],
   "source": [
    "#embed premise and hypothesis\n",
    "def embed(df):\n",
    "\tfor i in range(len(df)):\n",
    "\t\tdf['premise_embedding'][i] = model.encode(df['premise'][i])\n",
    "\t\tdf['hypothesis_embedding'][i] = model.encode(df['hypothesis'][i])\n",
    "\treturn df\n",
    "\n",
    "dev = embed(dev)\n",
    "test = embed(test)\n",
    "train = embed(train)\n",
    "\n",
    "#save the data\n",
    "output = \"../Fixed_dataset_with_embeddings/\"\n",
    "\n",
    "#save as tsv\n",
    "dev.to_csv(output + \"dev.tsv\", sep='\\t', index=False)\n",
    "test.to_csv(output + \"test.tsv\", sep='\\t', index=False)\n",
    "train.to_csv(output + \"train.tsv\", sep='\\t', index=False)"
   ]
  }
 ],
 "metadata": {
  "kernelspec": {
   "display_name": "Python 3",
   "language": "python",
   "name": "python3"
  },
  "language_info": {
   "codemirror_mode": {
    "name": "ipython",
    "version": 3
   },
   "file_extension": ".py",
   "mimetype": "text/x-python",
   "name": "python",
   "nbconvert_exporter": "python",
   "pygments_lexer": "ipython3",
   "version": "3.11.8"
  }
 },
 "nbformat": 4,
 "nbformat_minor": 2
}
