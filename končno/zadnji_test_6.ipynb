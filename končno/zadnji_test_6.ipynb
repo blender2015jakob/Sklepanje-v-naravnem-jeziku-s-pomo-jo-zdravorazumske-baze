{
 "cells": [
  {
   "cell_type": "code",
   "execution_count": 12,
   "metadata": {},
   "outputs": [],
   "source": [
    "import datasets\n",
    "\n",
    "#import dataset\n",
    "location = \"../Final_dataset/\"\n",
    "\n",
    "test = datasets.load_dataset(\"csv\", data_files=location + \"test_atomic.tsv\", delimiter=\"\\t\")\n",
    "test = test.rename_column(\"label\", \"labels\")\n",
    "test = test['train']"
   ]
  },
  {
   "cell_type": "code",
   "execution_count": 13,
   "metadata": {},
   "outputs": [
    {
     "name": "stderr",
     "output_type": "stream",
     "text": [
      "Creating CSV from Arrow format:   0%|          | 0/1 [00:00<?, ?ba/s]"
     ]
    },
    {
     "name": "stderr",
     "output_type": "stream",
     "text": [
      "Creating CSV from Arrow format: 100%|██████████| 1/1 [00:00<00:00, 47.17ba/s]\n"
     ]
    },
    {
     "data": {
      "text/plain": [
       "7856"
      ]
     },
     "execution_count": 13,
     "metadata": {},
     "output_type": "execute_result"
    }
   ],
   "source": [
    "#get out first 20 examples\n",
    "test = test.select(list(range(20)))\n",
    "\n",
    "#save as tsv\n",
    "#name = zadnje_testiranje.tsv\n",
    "test.to_csv(\"../končno/\" + \"zadnje_testiranje.tsv\", sep=\"\\t\", index=False)"
   ]
  }
 ],
 "metadata": {
  "kernelspec": {
   "display_name": "Python 3",
   "language": "python",
   "name": "python3"
  },
  "language_info": {
   "codemirror_mode": {
    "name": "ipython",
    "version": 3
   },
   "file_extension": ".py",
   "mimetype": "text/x-python",
   "name": "python",
   "nbconvert_exporter": "python",
   "pygments_lexer": "ipython3",
   "version": "3.11.9"
  }
 },
 "nbformat": 4,
 "nbformat_minor": 2
}
